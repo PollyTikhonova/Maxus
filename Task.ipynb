{
 "cells": [
  {
   "cell_type": "markdown",
   "metadata": {},
   "source": [
    "#### Тестовое задание для стажировки в Maxus. Тихонова Полина"
   ]
  },
  {
   "cell_type": "markdown",
   "metadata": {},
   "source": [
    "### Необходимые библиотеки"
   ]
  },
  {
   "cell_type": "code",
   "execution_count": 1,
   "metadata": {
    "collapsed": true
   },
   "outputs": [],
   "source": [
    "import numpy as np\n",
    "import pandas as pd\n",
    "\n",
    "from openpyxl import load_workbook\n",
    "import matplotlib.pyplot as plt\n",
    "% matplotlib inline\n",
    "\n",
    "import xlwt"
   ]
  },
  {
   "cell_type": "markdown",
   "metadata": {},
   "source": [
    "### Исходные данные"
   ]
  },
  {
   "cell_type": "code",
   "execution_count": 2,
   "metadata": {
    "collapsed": false
   },
   "outputs": [
    {
     "name": "stdout",
     "output_type": "stream",
     "text": [
      "(1029, 7)\n"
     ]
    },
    {
     "data": {
      "text/html": [
       "<div>\n",
       "<table border=\"1\" class=\"dataframe\">\n",
       "  <thead>\n",
       "    <tr style=\"text-align: right;\">\n",
       "      <th></th>\n",
       "      <th>ID</th>\n",
       "      <th>Сайт/Телефон</th>\n",
       "      <th>Канал</th>\n",
       "      <th>Цена</th>\n",
       "      <th>Оплачено</th>\n",
       "      <th>Маржа</th>\n",
       "      <th>% Маржи</th>\n",
       "    </tr>\n",
       "  </thead>\n",
       "  <tbody>\n",
       "    <tr>\n",
       "      <th>0</th>\n",
       "      <td>1002250907</td>\n",
       "      <td>Website</td>\n",
       "      <td>partner</td>\n",
       "      <td>99706</td>\n",
       "      <td>0</td>\n",
       "      <td>11765</td>\n",
       "      <td>11.799691</td>\n",
       "    </tr>\n",
       "    <tr>\n",
       "      <th>1</th>\n",
       "      <td>1002250912</td>\n",
       "      <td>Website</td>\n",
       "      <td>Organic</td>\n",
       "      <td>28321</td>\n",
       "      <td>28321</td>\n",
       "      <td>2536</td>\n",
       "      <td>8.954486</td>\n",
       "    </tr>\n",
       "    <tr>\n",
       "      <th>2</th>\n",
       "      <td>1002250913</td>\n",
       "      <td>Website</td>\n",
       "      <td>AF</td>\n",
       "      <td>44777</td>\n",
       "      <td>44777</td>\n",
       "      <td>5284</td>\n",
       "      <td>11.800701</td>\n",
       "    </tr>\n",
       "    <tr>\n",
       "      <th>3</th>\n",
       "      <td>1002250917</td>\n",
       "      <td>Phone</td>\n",
       "      <td>Direct</td>\n",
       "      <td>21951</td>\n",
       "      <td>0</td>\n",
       "      <td>2590</td>\n",
       "      <td>11.799007</td>\n",
       "    </tr>\n",
       "    <tr>\n",
       "      <th>4</th>\n",
       "      <td>1002250923</td>\n",
       "      <td>Website</td>\n",
       "      <td>Organic</td>\n",
       "      <td>37013</td>\n",
       "      <td>0</td>\n",
       "      <td>4368</td>\n",
       "      <td>11.801259</td>\n",
       "    </tr>\n",
       "  </tbody>\n",
       "</table>\n",
       "</div>"
      ],
      "text/plain": [
       "           ID Сайт/Телефон    Канал   Цена  Оплачено  Маржа    % Маржи\n",
       "0  1002250907      Website  partner  99706         0  11765  11.799691\n",
       "1  1002250912      Website  Organic  28321     28321   2536   8.954486\n",
       "2  1002250913      Website       AF  44777     44777   5284  11.800701\n",
       "3  1002250917        Phone   Direct  21951         0   2590  11.799007\n",
       "4  1002250923      Website  Organic  37013         0   4368  11.801259"
      ]
     },
     "execution_count": 2,
     "metadata": {},
     "output_type": "execute_result"
    }
   ],
   "source": [
    "data = pd.ExcelFile(\"data.xlsx\").parse(\"Заказы\")\n",
    "data['% Маржи'] = np.divide(data[[5]], data[[3]])*100\n",
    "print(data.shape)\n",
    "data.head()"
   ]
  },
  {
   "cell_type": "markdown",
   "metadata": {},
   "source": [
    "### Вычисления"
   ]
  },
  {
   "cell_type": "markdown",
   "metadata": {},
   "source": [
    "Для некоторых вопросов результаты получаются нерепрезентативными, поскольку по некоторым каналам проходил только один заказ.\n",
    "В таких случаях, я проделывала те же вычисления, но исключала каналы, по котороым проходил только 1 заказ."
   ]
  },
  {
   "cell_type": "code",
   "execution_count": 3,
   "metadata": {
    "collapsed": false
   },
   "outputs": [
    {
     "data": {
      "text/html": [
       "<div>\n",
       "<table border=\"1\" class=\"dataframe\">\n",
       "  <thead>\n",
       "    <tr style=\"text-align: right;\">\n",
       "      <th></th>\n",
       "      <th>Канал</th>\n",
       "      <th># заказов</th>\n",
       "    </tr>\n",
       "  </thead>\n",
       "  <tbody>\n",
       "    <tr>\n",
       "      <th>0</th>\n",
       "      <td>AF</td>\n",
       "      <td>354</td>\n",
       "    </tr>\n",
       "    <tr>\n",
       "      <th>1</th>\n",
       "      <td>Direct</td>\n",
       "      <td>125</td>\n",
       "    </tr>\n",
       "    <tr>\n",
       "      <th>2</th>\n",
       "      <td>Organic</td>\n",
       "      <td>355</td>\n",
       "    </tr>\n",
       "    <tr>\n",
       "      <th>3</th>\n",
       "      <td>fb</td>\n",
       "      <td>1</td>\n",
       "    </tr>\n",
       "    <tr>\n",
       "      <th>4</th>\n",
       "      <td>google</td>\n",
       "      <td>133</td>\n",
       "    </tr>\n",
       "    <tr>\n",
       "      <th>5</th>\n",
       "      <td>newsletter</td>\n",
       "      <td>59</td>\n",
       "    </tr>\n",
       "    <tr>\n",
       "      <th>6</th>\n",
       "      <td>partner</td>\n",
       "      <td>1</td>\n",
       "    </tr>\n",
       "    <tr>\n",
       "      <th>7</th>\n",
       "      <td>vk</td>\n",
       "      <td>1</td>\n",
       "    </tr>\n",
       "  </tbody>\n",
       "</table>\n",
       "</div>"
      ],
      "text/plain": [
       "        Канал  # заказов\n",
       "0          AF        354\n",
       "1      Direct        125\n",
       "2     Organic        355\n",
       "3          fb          1\n",
       "4      google        133\n",
       "5  newsletter         59\n",
       "6     partner          1\n",
       "7          vk          1"
      ]
     },
     "execution_count": 3,
     "metadata": {},
     "output_type": "execute_result"
    }
   ],
   "source": [
    "uni_web = np.unique(data[[1]])\n",
    "uni_canal = np.unique(data[[2]])\n",
    "\n",
    "info = pd.DataFrame()\n",
    "info['Канал'] = uni_canal\n",
    "info['# заказов'] = [np.sum(data['Канал']==i) for i in uni_canal]\n",
    "info"
   ]
  },
  {
   "cell_type": "code",
   "execution_count": 4,
   "metadata": {
    "collapsed": false
   },
   "outputs": [],
   "source": [
    "ans1 = np.mean(data[[3]])\n",
    "ans2 = np.mean(data[data[[4]]!=0][[4]])\n",
    "ans3 = np.mean(data.loc[data['Сайт/Телефон']==\"Website\"][[6]])\n",
    "ans4a = 100*np.sum(data[[4]]!=0)/data.shape[0]\n",
    "ans4b = 100*np.mean([np.sum(data.loc[data['Сайт/Телефон']==i][[4]]!=0)/data.loc[data['Сайт/Телефон']==i].shape[0] for i in uni_web])\n",
    "ans4c = 100*np.mean([np.sum(data.loc[data['Канал']==i][[4]]!=0)/data.loc[data['Канал']==i].shape[0] for i in uni_canal])\n",
    "\n",
    "revenue = np.array([np.sum(data.loc[(data['Канал']==i) & (data['Оплачено']!=0)][[5]]) for i in uni_canal])\n",
    "ans5 = (uni_canal[(revenue == np.amax(revenue)).reshape(1,-1)[0]][0], np.amax(revenue))\n",
    "\n",
    "revenue = np.array([np.mean(data.loc[(data['Канал']==i)][[3]]) for i in uni_canal])\n",
    "revenue_fixed = revenue[np.array((info[[1]]>1)).flatten()].flatten()\n",
    "ans6a = (uni_canal[(revenue == np.amax(revenue)).reshape(1,-1)[0]][0], np.amax(revenue))\n",
    "ans6b = (uni_canal[(revenue == np.amax(revenue_fixed)).reshape(1,-1)[0]][0], np.amax(revenue_fixed))\n",
    "\n",
    "revenue = np.array([np.sum([(data['Канал']==i) & (data['Сайт/Телефон']==\"Phone\")]) for i in uni_canal])\n",
    "revenue = np.array(np.divide(revenue, info['# заказов']))\n",
    "revenue_fixed = revenue[np.array((info[[1]]>1)).flatten()].flatten()\n",
    "ans7a = (uni_canal[(revenue == np.amax(revenue)).reshape(1,-1)[0]][0], np.amax(revenue))\n",
    "ans7b = (uni_canal[(revenue == np.amax(revenue_fixed)).reshape(1,-1)[0]][0], np.amax(revenue_fixed))\n",
    "\n",
    "mean_gross = [np.mean(data.loc[data['Сайт/Телефон']==i][[5]]) for i in uni_web]\n",
    "ans8 = (abs(mean_gross[0]-mean_gross[1]), uni_web[(mean_gross==np.amax(mean_gross)).flatten()][0])\n",
    "\n",
    "ans9 = np.sum(np.array(data[[4]])>np.array(data[[3]]))"
   ]
  },
  {
   "cell_type": "markdown",
   "metadata": {},
   "source": [
    "### Результаты"
   ]
  },
  {
   "cell_type": "code",
   "execution_count": 5,
   "metadata": {
    "collapsed": false
   },
   "outputs": [
    {
     "name": "stdout",
     "output_type": "stream",
     "text": [
      "1. Средняя цена заказа = 52945.51 руб.\n",
      "2. Средняя сумма оплаченного заказа = 44178.95 руб.\n",
      "3. Средний процент маржи оплаченного заказа = 10.30%\n",
      "4а. Конверсия из заказа в оплату = 34.31%\n",
      "4б. Конверсия из заказа в оплату средняя cайт/телефон = 34.27%\n",
      "4в. Конверсия из заказа в оплату средняя по каналам = 22.89%\n",
      "5. Канал с самой большой чистой прибылью - Organic, прибыль = 571742.00 руб.\n",
      "6а. Канал с самым высоким средним чеком заказа - partner, чек = 99706.00 руб.\n",
      "6б. Канал с самым высоким средним чеком заказа среди каналов с заказами > 1 - Direct, чек = 61856.45 руб.\n",
      "7а. Канал с самой высокой долей заказов через телефон - fb, доля = 1.00\n",
      "7б. Канал с самой высокой долей заказов через телефон среди каналов с заказами > 1 - Direct, доля = 0.41\n",
      "8. Разница в маржинальности заказов с сайта и с телефона = 174.48 руб.\n",
      "   Маржинальность больше у заказов через Website\n",
      "9. Количество заказов, в которых оплата была произведена на большую сумму - 9.\n"
     ]
    }
   ],
   "source": [
    "print('1. Средняя цена заказа = %0.2f руб.'% ans1)\n",
    "print('2. Средняя сумма оплаченного заказа = %0.2f руб.'% ans2)\n",
    "print('3. Средний процент маржи оплаченного заказа = %0.2f%s'% (ans3, \"%\"))\n",
    "print(\"4а. Конверсия из заказа в оплату = %0.2f%s\"%(ans4a, \"%\")+\n",
    "      \"\\n4б. Конверсия из заказа в оплату средняя cайт/телефон = %0.2f%s\"%(ans4b, \"%\")+\n",
    "     \"\\n4в. Конверсия из заказа в оплату средняя по каналам = %0.2f%s\" %(ans4c, \"%\"))\n",
    "print(\"5. Канал с самой большой чистой прибылью - %s, прибыль = %0.2f руб.\" %ans5)\n",
    "print(\"6а. Канал с самым высоким средним чеком заказа - %s, чек = %0.2f руб.\"% ans6a +\n",
    "     \"\\n6б. Канал с самым высоким средним чеком заказа среди каналов с заказами > 1 - %s, чек = %0.2f руб.\" % ans6b)\n",
    "print(\"7а. Канал с самой высокой долей заказов через телефон - %s, доля = %0.2f\"  % ans7a +\n",
    "     \"\\n7б. Канал с самой высокой долей заказов через телефон среди каналов с заказами > 1 - %s, доля = %0.2f\"  % ans7b)\n",
    "print('8. Разница в маржинальности заказов с сайта и с телефона = %0.2f руб.\\n   Маржинальность больше у заказов через %s'% ans8)\n",
    "print('9. Количество заказов, в которых оплата была произведена на большую сумму - %d.'%ans9)"
   ]
  },
  {
   "cell_type": "code",
   "execution_count": 6,
   "metadata": {
    "collapsed": false
   },
   "outputs": [
    {
     "data": {
      "image/png": "[encoded data removed]",
      "text/plain": [
       "<matplotlib.figure.Figure at 0x14668e445f8>"
      ]
     },
     "metadata": {},
     "output_type": "display_data"
    }
   ],
   "source": [
    "plt.figure(figsize = (15,7))\n",
    "conv = [100*np.sum(np.array(data.loc[data['Канал']==i][[4]]!=0)/data.loc[data['Канал']==i].shape[0]) for i in uni_canal]\n",
    "plt.bar(list(range(len(conv))), conv, color = ['darkmagenta', 'midnightblue', 'teal', 'b', 'darkred', 'goldenrod', 'r', 'y'])\n",
    "plt.xticks(list(range(len(conv))), uni_canal, fontsize = 15)\n",
    "plt.title(\"10. Conversion Bar Chart\", fontsize = 15)\n",
    "plt.show()"
   ]
  }
 ],
 "metadata": {
  "anaconda-cloud": {},
  "kernelspec": {
   "display_name": "Python 3",
   "language": "python",
   "name": "root"
  },
  "language_info": {
   "codemirror_mode": {
    "name": "ipython",
    "version": 3
   },
   "file_extension": ".py",
   "mimetype": "text/x-python",
   "name": "python",
   "nbconvert_exporter": "python",
   "pygments_lexer": "ipython3",
   "version": "3.5.2"
  }
 },
 "nbformat": 4,
 "nbformat_minor": 2
}
